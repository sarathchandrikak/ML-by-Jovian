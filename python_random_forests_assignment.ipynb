{
  "nbformat": 4,
  "nbformat_minor": 5,
  "metadata": {
    "colab": {
      "name": "python-random-forests-assignment.ipynb",
      "provenance": []
    },
    "kernelspec": {
      "display_name": "Python 3",
      "language": "python",
      "name": "python3"
    },
    "language_info": {
      "codemirror_mode": {
        "name": "ipython",
        "version": 3
      },
      "file_extension": ".py",
      "mimetype": "text/x-python",
      "name": "python",
      "nbconvert_exporter": "python",
      "pygments_lexer": "ipython3",
      "version": "3.6.13"
    }
  },
  "cells": [
    {
      "cell_type": "code",
      "metadata": {
        "id": "6d6b221e"
      },
      "source": [
        "# Jovian Commit Essentials\n",
        "# Please retain and execute this cell without modifying the contents for `jovian.commit` to work\n",
        "!pip install jovian --upgrade -q\n",
        "import jovian\n",
        "jovian.set_project('python-random-forests-assignment')\n",
        "jovian.set_colab_id('1m94pYAwAjIPzfQ3fF7xA-qEXIPtol5EF')"
      ],
      "id": "6d6b221e",
      "execution_count": null,
      "outputs": []
    },
    {
      "cell_type": "markdown",
      "metadata": {
        "id": "completed-acrobat"
      },
      "source": [
        "# Assignment - Decision Trees and Random Forests\n",
        "\n",
        "![](https://i.imgur.com/3sw1fY9.jpg)\n",
        "\n",
        "In this assignment, you'll continue building on the previous assignment to predict the price of a house using information like its location, area, no. of rooms etc. You'll use the dataset from the [House Prices - Advanced Regression Techniques](https://www.kaggle.com/c/house-prices-advanced-regression-techniques) competition on [Kaggle](https://kaggle.com). \n",
        "\n",
        "We'll follow a step-by-step process:\n",
        "\n",
        "1. Download and prepare the dataset for training\n",
        "2. Train, evaluate and interpret a decision tree\n",
        "3. Train, evaluate and interpret a random forest\n",
        "4. Tune hyperparameters to improve the model\n",
        "5. Make predictions and save the model\n",
        "\n",
        "As you go through this notebook, you will find a **???** in certain places. Your job is to replace the **???** with appropriate code or values, to ensure that the notebook runs properly end-to-end and your machine learning model is trained properly without errors. \n",
        "\n",
        "**Guidelines**\n",
        "\n",
        "1. Make sure to run all the code cells in order. Otherwise, you may get errors like `NameError` for undefined variables.\n",
        "2. Do not change variable names, delete cells, or disturb other existing code. It may cause problems during evaluation.\n",
        "3. In some cases, you may need to add some code cells or new statements before or after the line of code containing the **???**. \n",
        "4. Since you'll be using a temporary online service for code execution, save your work by running `jovian.commit` at regular intervals.\n",
        "5. Review the \"Evaluation Criteria\" for the assignment carefully and make sure your submission meets all the criteria.\n",
        "6. Questions marked **(Optional)** will not be considered for evaluation and can be skipped. They are for your learning.\n",
        "7. It's okay to ask for help & discuss ideas on the [community forum](https://jovian.ai/forum/c/zero-to-gbms/gbms-assignment-2/99), but please don't post full working code, to give everyone an opportunity to solve the assignment on their own.\n",
        "\n",
        "\n",
        "**Important Links**:\n",
        "\n",
        "- Make a submission here: https://jovian.ai/learn/machine-learning-with-python-zero-to-gbms/assignment/assignment-2-decision-trees-and-random-forests\n",
        "- Ask questions, discuss ideas and get help here: https://jovian.ai/forum/c/zero-to-gbms/gbms-assignment-2/99\n",
        "- Review this Jupyter notebook: https://jovian.ai/aakashns/sklearn-decision-trees-random-forests\n"
      ],
      "id": "completed-acrobat"
    },
    {
      "cell_type": "markdown",
      "metadata": {
        "id": "fluid-hormone"
      },
      "source": [
        "## How to Run the Code and Save Your Work\n",
        "\n",
        "**Option 1: Running using free online resources (1-click, recommended):** The easiest way to start executing the code is to click the **Run** button at the top of this page and select **Run on Binder**. This will set up a cloud-based Jupyter notebook server and allow you to modify/execute the code.\n",
        "\n",
        "\n",
        "**Option 2: Running on your computer locally:** To run the code on your computer locally, you'll need to set up [Python](https://www.python.org), download the notebook and install the required libraries. Click the **Run** button at the top of this page, select the **Run Locally** option, and follow the instructions.\n",
        "\n",
        "**Saving your work**: You can save a snapshot of the assignment to your [Jovian](https://jovian.ai) profile, so that you can access it later and continue your work. Keep saving your work by running `jovian.commit` from time to time."
      ],
      "id": "fluid-hormone"
    },
    {
      "cell_type": "code",
      "metadata": {
        "id": "enhanced-volume"
      },
      "source": [
        "!pip install jovian --upgrade --quiet"
      ],
      "id": "enhanced-volume",
      "execution_count": null,
      "outputs": []
    },
    {
      "cell_type": "code",
      "metadata": {
        "id": "saved-police"
      },
      "source": [
        "import jovian"
      ],
      "id": "saved-police",
      "execution_count": null,
      "outputs": []
    },
    {
      "cell_type": "code",
      "metadata": {
        "colab": {
          "background_save": true,
          "base_uri": "https://localhost:8080/"
        },
        "id": "offshore-musical",
        "outputId": "e1b351ee-4cbc-4a4f-b26a-9916c28acc8b"
      },
      "source": [
        "jovian.commit(project='python-random-forests-assignment', privacy='secret')"
      ],
      "id": "offshore-musical",
      "execution_count": null,
      "outputs": [
        {
          "output_type": "stream",
          "text": [
            "[jovian] Detected Colab notebook...\u001b[0m\n",
            "[jovian] Please enter your API key ( from https://jovian.ai/ ):\u001b[0m\n",
            "API KEY: "
          ],
          "name": "stdout"
        }
      ]
    },
    {
      "cell_type": "markdown",
      "metadata": {
        "id": "hourly-rhythm"
      },
      "source": [
        "Let's begin by installing the required libraries."
      ],
      "id": "hourly-rhythm"
    },
    {
      "cell_type": "code",
      "metadata": {
        "id": "continent-yacht"
      },
      "source": [
        "!pip install opendatasets scikit-learn plotly folium --upgrade --quiet"
      ],
      "id": "continent-yacht",
      "execution_count": null,
      "outputs": []
    },
    {
      "cell_type": "code",
      "metadata": {
        "id": "australian-suicide"
      },
      "source": [
        "!pip install pandas numpy matplotlib seaborn --quiet"
      ],
      "id": "australian-suicide",
      "execution_count": null,
      "outputs": []
    },
    {
      "cell_type": "markdown",
      "metadata": {
        "id": "twelve-thanksgiving"
      },
      "source": [
        "## Download and prepare the dataset for training"
      ],
      "id": "twelve-thanksgiving"
    },
    {
      "cell_type": "code",
      "metadata": {
        "id": "aggressive-taste"
      },
      "source": [
        "import os\n",
        "from zipfile import ZipFile\n",
        "from urllib.request import urlretrieve\n",
        "\n",
        "dataset_url = 'https://github.com/JovianML/opendatasets/raw/master/data/house-prices-advanced-regression-techniques.zip'\n",
        "urlretrieve(dataset_url, 'house-prices.zip')\n",
        "with ZipFile('house-prices.zip') as f:\n",
        "    f.extractall(path='house-prices')\n",
        "    \n",
        "os.listdir('house-prices')"
      ],
      "id": "aggressive-taste",
      "execution_count": null,
      "outputs": []
    },
    {
      "cell_type": "code",
      "metadata": {
        "id": "tracked-window"
      },
      "source": [
        "import pandas as pd\n",
        "pd.options.display.max_columns = 200\n",
        "pd.options.display.max_rows = 200\n",
        "\n",
        "prices_df = pd.read_csv('house-prices/train.csv')\n",
        "prices_df"
      ],
      "id": "tracked-window",
      "execution_count": null,
      "outputs": []
    },
    {
      "cell_type": "code",
      "metadata": {
        "id": "large-jacob"
      },
      "source": [
        "import numpy as np\n",
        "from sklearn.impute import SimpleImputer\n",
        "from sklearn.preprocessing import MinMaxScaler, OneHotEncoder\n",
        "from sklearn.model_selection import train_test_split\n",
        "\n",
        "# Identify input and target columns\n",
        "input_cols, target_col = prices_df.columns[1:-1], prices_df.columns[-1]\n",
        "inputs_df, targets = prices_df[input_cols].copy(), prices_df[target_col].copy()\n",
        "\n",
        "# Identify numeric and categorical columns\n",
        "numeric_cols = prices_df[input_cols].select_dtypes(include=np.number).columns.tolist()\n",
        "categorical_cols = prices_df[input_cols].select_dtypes(include='object').columns.tolist()\n",
        "\n",
        "# Impute and scale numeric columns\n",
        "imputer = SimpleImputer().fit(inputs_df[numeric_cols])\n",
        "inputs_df[numeric_cols] = imputer.transform(inputs_df[numeric_cols])\n",
        "scaler = MinMaxScaler().fit(inputs_df[numeric_cols])\n",
        "inputs_df[numeric_cols] = scaler.transform(inputs_df[numeric_cols])\n",
        "\n",
        "# One-hot encode categorical columns\n",
        "encoder = OneHotEncoder(sparse=False, handle_unknown='ignore').fit(inputs_df[categorical_cols])\n",
        "encoded_cols = list(encoder.get_feature_names(categorical_cols))\n",
        "inputs_df[encoded_cols] = encoder.transform(inputs_df[categorical_cols])\n",
        "\n",
        "# Create training and validation sets\n",
        "train_inputs, val_inputs, train_targets, val_targets = train_test_split(\n",
        "    inputs_df[numeric_cols + encoded_cols], targets, test_size=0.25, random_state=42)"
      ],
      "id": "large-jacob",
      "execution_count": null,
      "outputs": []
    },
    {
      "cell_type": "markdown",
      "metadata": {
        "id": "located-community"
      },
      "source": [
        "Let's save our work before continuing."
      ],
      "id": "located-community"
    },
    {
      "cell_type": "code",
      "metadata": {
        "id": "understood-hostel"
      },
      "source": [
        "jovian.commit()"
      ],
      "id": "understood-hostel",
      "execution_count": null,
      "outputs": []
    },
    {
      "cell_type": "markdown",
      "metadata": {
        "id": "unnecessary-pressing"
      },
      "source": [
        "## Decision Tree\n"
      ],
      "id": "unnecessary-pressing"
    },
    {
      "cell_type": "markdown",
      "metadata": {
        "id": "express-morning"
      },
      "source": [
        "> **QUESTION 1**: Train a decision tree regressor using the training set."
      ],
      "id": "express-morning"
    },
    {
      "cell_type": "code",
      "metadata": {
        "id": "limited-aaron"
      },
      "source": [
        "from sklearn.tree import DecisionTreeRegressor"
      ],
      "id": "limited-aaron",
      "execution_count": null,
      "outputs": []
    },
    {
      "cell_type": "code",
      "metadata": {
        "id": "champion-possibility"
      },
      "source": [
        "# Create the model\n",
        "tree = ???"
      ],
      "id": "champion-possibility",
      "execution_count": null,
      "outputs": []
    },
    {
      "cell_type": "code",
      "metadata": {
        "id": "opposite-laptop"
      },
      "source": [
        "# Fit the model to the training data\n",
        "???"
      ],
      "id": "opposite-laptop",
      "execution_count": null,
      "outputs": []
    },
    {
      "cell_type": "code",
      "metadata": {
        "id": "welsh-jewel"
      },
      "source": [
        ""
      ],
      "id": "welsh-jewel",
      "execution_count": null,
      "outputs": []
    },
    {
      "cell_type": "markdown",
      "metadata": {
        "id": "geological-fusion"
      },
      "source": [
        "Let's save our work before continuing."
      ],
      "id": "geological-fusion"
    },
    {
      "cell_type": "code",
      "metadata": {
        "id": "progressive-eagle"
      },
      "source": [
        "jovian.commit()"
      ],
      "id": "progressive-eagle",
      "execution_count": null,
      "outputs": []
    },
    {
      "cell_type": "markdown",
      "metadata": {
        "id": "contrary-policy"
      },
      "source": [
        "> **QUESTION 2**: Generate predictions on the training and validation sets using the trained decision tree, and compute the RMSE loss."
      ],
      "id": "contrary-policy"
    },
    {
      "cell_type": "code",
      "metadata": {
        "id": "helpful-blake"
      },
      "source": [
        "from sklearn.metrics import mean_squared_error"
      ],
      "id": "helpful-blake",
      "execution_count": null,
      "outputs": []
    },
    {
      "cell_type": "code",
      "metadata": {
        "id": "alien-november"
      },
      "source": [
        "tree_train_preds = ???"
      ],
      "id": "alien-november",
      "execution_count": null,
      "outputs": []
    },
    {
      "cell_type": "code",
      "metadata": {
        "id": "received-producer"
      },
      "source": [
        "tree_train_rmse = ???"
      ],
      "id": "received-producer",
      "execution_count": null,
      "outputs": []
    },
    {
      "cell_type": "code",
      "metadata": {
        "id": "clinical-cameroon"
      },
      "source": [
        "tree_val_preds = ???"
      ],
      "id": "clinical-cameroon",
      "execution_count": null,
      "outputs": []
    },
    {
      "cell_type": "code",
      "metadata": {
        "id": "sapphire-indie"
      },
      "source": [
        "tree_val_rmse = ???"
      ],
      "id": "sapphire-indie",
      "execution_count": null,
      "outputs": []
    },
    {
      "cell_type": "code",
      "metadata": {
        "id": "moving-program"
      },
      "source": [
        "print('Train RMSE: {}, Validation RMSE: {}'.format(tree_train_rmse, tree_val_rmse))"
      ],
      "id": "moving-program",
      "execution_count": null,
      "outputs": []
    },
    {
      "cell_type": "code",
      "metadata": {
        "id": "thirty-first"
      },
      "source": [
        ""
      ],
      "id": "thirty-first",
      "execution_count": null,
      "outputs": []
    },
    {
      "cell_type": "markdown",
      "metadata": {
        "id": "handled-dictionary"
      },
      "source": [
        "Let's save our work before continuing."
      ],
      "id": "handled-dictionary"
    },
    {
      "cell_type": "code",
      "metadata": {
        "id": "certified-trader"
      },
      "source": [
        "jovian.commit()"
      ],
      "id": "certified-trader",
      "execution_count": null,
      "outputs": []
    },
    {
      "cell_type": "markdown",
      "metadata": {
        "id": "russian-wheat"
      },
      "source": [
        "> **QUESTION 3**: Visualize the decision tree (graphically and textually) and display feature importances as a graph. Limit the maximum depth of graphical visualization to 3 levels."
      ],
      "id": "russian-wheat"
    },
    {
      "cell_type": "code",
      "metadata": {
        "id": "moved-hobby"
      },
      "source": [
        "import matplotlib.pyplot as plt\n",
        "from sklearn.tree import plot_tree, export_text\n",
        "import seaborn as sns\n",
        "sns.set_style('darkgrid')\n",
        "%matplotlib inline"
      ],
      "id": "moved-hobby",
      "execution_count": null,
      "outputs": []
    },
    {
      "cell_type": "code",
      "metadata": {
        "id": "foreign-mills"
      },
      "source": [
        "plt.figure(figsize=(30,15))\n",
        "\n",
        "# Visualize the tree graphically using plot_tree\n",
        "???"
      ],
      "id": "foreign-mills",
      "execution_count": null,
      "outputs": []
    },
    {
      "cell_type": "code",
      "metadata": {
        "id": "asian-immunology"
      },
      "source": [
        "# Visualize the tree textually using export_text\n",
        "tree_text = ???"
      ],
      "id": "asian-immunology",
      "execution_count": null,
      "outputs": []
    },
    {
      "cell_type": "code",
      "metadata": {
        "id": "baking-knife"
      },
      "source": [
        "# Display the first few lines\n",
        "print(tree_text[:2000])"
      ],
      "id": "baking-knife",
      "execution_count": null,
      "outputs": []
    },
    {
      "cell_type": "code",
      "metadata": {
        "id": "typical-birth"
      },
      "source": [
        "# Check feature importance\n",
        "tree_importances = ???"
      ],
      "id": "typical-birth",
      "execution_count": null,
      "outputs": []
    },
    {
      "cell_type": "code",
      "metadata": {
        "id": "entertaining-reply"
      },
      "source": [
        "tree_importance_df = pd.DataFrame({\n",
        "    'feature': train_inputs.columns,\n",
        "    'importance': tree_importances\n",
        "}).sort_values('importance', ascending=False)"
      ],
      "id": "entertaining-reply",
      "execution_count": null,
      "outputs": []
    },
    {
      "cell_type": "code",
      "metadata": {
        "id": "limiting-ridge"
      },
      "source": [
        "tree_importance_df"
      ],
      "id": "limiting-ridge",
      "execution_count": null,
      "outputs": []
    },
    {
      "cell_type": "code",
      "metadata": {
        "id": "amended-spain"
      },
      "source": [
        "plt.title('Decision Tree Feature Importance')\n",
        "sns.barplot(data=tree_importance_df.head(10), x='importance', y='feature');"
      ],
      "id": "amended-spain",
      "execution_count": null,
      "outputs": []
    },
    {
      "cell_type": "code",
      "metadata": {
        "id": "personal-alert"
      },
      "source": [
        ""
      ],
      "id": "personal-alert",
      "execution_count": null,
      "outputs": []
    },
    {
      "cell_type": "markdown",
      "metadata": {
        "id": "monthly-crazy"
      },
      "source": [
        "Let's save our work before continuing."
      ],
      "id": "monthly-crazy"
    },
    {
      "cell_type": "code",
      "metadata": {
        "id": "statistical-material"
      },
      "source": [
        "jovian.commit()"
      ],
      "id": "statistical-material",
      "execution_count": null,
      "outputs": []
    },
    {
      "cell_type": "markdown",
      "metadata": {
        "id": "grand-option"
      },
      "source": [
        "## Random Forests\n"
      ],
      "id": "grand-option"
    },
    {
      "cell_type": "markdown",
      "metadata": {
        "id": "imperial-porcelain"
      },
      "source": [
        "> **QUESTION 4**: Train a random forest regressor using the training set."
      ],
      "id": "imperial-porcelain"
    },
    {
      "cell_type": "code",
      "metadata": {
        "id": "given-header"
      },
      "source": [
        "from sklearn.ensemble import RandomForestRegressor"
      ],
      "id": "given-header",
      "execution_count": null,
      "outputs": []
    },
    {
      "cell_type": "code",
      "metadata": {
        "id": "virtual-mortgage"
      },
      "source": [
        "# Create the model\n",
        "rf1 = ???"
      ],
      "id": "virtual-mortgage",
      "execution_count": null,
      "outputs": []
    },
    {
      "cell_type": "code",
      "metadata": {
        "id": "parental-mistress"
      },
      "source": [
        "# Fit the model\n",
        "???"
      ],
      "id": "parental-mistress",
      "execution_count": null,
      "outputs": []
    },
    {
      "cell_type": "code",
      "metadata": {
        "id": "metric-application"
      },
      "source": [
        ""
      ],
      "id": "metric-application",
      "execution_count": null,
      "outputs": []
    },
    {
      "cell_type": "markdown",
      "metadata": {
        "id": "instant-ranking"
      },
      "source": [
        "Let's save our work before continuing."
      ],
      "id": "instant-ranking"
    },
    {
      "cell_type": "code",
      "metadata": {
        "id": "modular-tyler"
      },
      "source": [
        "jovian.commit()"
      ],
      "id": "modular-tyler",
      "execution_count": null,
      "outputs": []
    },
    {
      "cell_type": "markdown",
      "metadata": {
        "id": "proved-batman"
      },
      "source": [
        "> **QUESTION 5**: Make predictions using the random forest regressor."
      ],
      "id": "proved-batman"
    },
    {
      "cell_type": "code",
      "metadata": {
        "id": "removable-driving"
      },
      "source": [
        "rf1_train_preds = ???"
      ],
      "id": "removable-driving",
      "execution_count": null,
      "outputs": []
    },
    {
      "cell_type": "code",
      "metadata": {
        "id": "mature-ceremony"
      },
      "source": [
        "rf1_train_rmse = ???"
      ],
      "id": "mature-ceremony",
      "execution_count": null,
      "outputs": []
    },
    {
      "cell_type": "code",
      "metadata": {
        "id": "unable-racing"
      },
      "source": [
        "rf1_val_preds = ???"
      ],
      "id": "unable-racing",
      "execution_count": null,
      "outputs": []
    },
    {
      "cell_type": "code",
      "metadata": {
        "id": "narrow-chaos"
      },
      "source": [
        "rf1_val_rmse = ???"
      ],
      "id": "narrow-chaos",
      "execution_count": null,
      "outputs": []
    },
    {
      "cell_type": "code",
      "metadata": {
        "id": "norman-brooks"
      },
      "source": [
        "print('Train RMSE: {}, Validation RMSE: {}'.format(rf1_train_rmse, rf1_val_rmse))"
      ],
      "id": "norman-brooks",
      "execution_count": null,
      "outputs": []
    },
    {
      "cell_type": "code",
      "metadata": {
        "id": "apparent-square"
      },
      "source": [
        ""
      ],
      "id": "apparent-square",
      "execution_count": null,
      "outputs": []
    },
    {
      "cell_type": "markdown",
      "metadata": {
        "id": "further-camera"
      },
      "source": [
        "Let's save our work before continuing."
      ],
      "id": "further-camera"
    },
    {
      "cell_type": "code",
      "metadata": {
        "id": "worldwide-exhibit"
      },
      "source": [
        "jovian.commit()"
      ],
      "id": "worldwide-exhibit",
      "execution_count": null,
      "outputs": []
    },
    {
      "cell_type": "markdown",
      "metadata": {
        "id": "confident-soundtrack"
      },
      "source": [
        "## Hyperparameter Tuning\n",
        "\n",
        "Let us now tune the hyperparameters of our model. You can find the hyperparameters for `RandomForestRegressor` here: https://scikit-learn.org/stable/modules/generated/sklearn.ensemble.RandomForestRegressor.html\n",
        "\n",
        "<img src=\"https://i.imgur.com/EJCrSZw.png\" width=\"480\">\n",
        "\n",
        "Hyperparameters are use"
      ],
      "id": "confident-soundtrack"
    },
    {
      "cell_type": "markdown",
      "metadata": {
        "id": "narrative-makeup"
      },
      "source": [
        "Let's define a helper function `test_params` which can test the given value of one or more hyperparameters."
      ],
      "id": "narrative-makeup"
    },
    {
      "cell_type": "code",
      "metadata": {
        "id": "administrative-palestine"
      },
      "source": [
        "def test_params(**params):\n",
        "    model = RandomForestRegressor(random_state=42, n_jobs=-1, **params).fit(train_inputs, train_targets)\n",
        "    train_rmse = mean_squared_error(model.predict(train_inputs), train_targets, squared=False)\n",
        "    val_rmse = mean_squared_error(model.predict(val_inputs), val_targets, squared=False)\n",
        "    return train_rmse, val_rmse"
      ],
      "id": "administrative-palestine",
      "execution_count": null,
      "outputs": []
    },
    {
      "cell_type": "markdown",
      "metadata": {
        "id": "legal-commander"
      },
      "source": [
        "It can be used as follows:"
      ],
      "id": "legal-commander"
    },
    {
      "cell_type": "code",
      "metadata": {
        "id": "banned-society"
      },
      "source": [
        "test_params(n_estimators=20, max_depth=20)"
      ],
      "id": "banned-society",
      "execution_count": null,
      "outputs": []
    },
    {
      "cell_type": "code",
      "metadata": {
        "id": "outstanding-bradford"
      },
      "source": [
        "test_params(n_estimators=50, max_depth=10, min_samples_leaf=4, max_features=0.4)"
      ],
      "id": "outstanding-bradford",
      "execution_count": null,
      "outputs": []
    },
    {
      "cell_type": "markdown",
      "metadata": {
        "id": "civilian-diary"
      },
      "source": [
        "Let's also define a helper function to test and plot different values of a single parameter."
      ],
      "id": "civilian-diary"
    },
    {
      "cell_type": "code",
      "metadata": {
        "id": "australian-removal"
      },
      "source": [
        "def test_param_and_plot(param_name, param_values):\n",
        "    train_errors, val_errors = [], [] \n",
        "    for value in param_values:\n",
        "        params = {param_name: value}\n",
        "        train_rmse, val_rmse = test_params(**params)\n",
        "        train_errors.append(train_rmse)\n",
        "        val_errors.append(val_rmse)\n",
        "    plt.figure(figsize=(10,6))\n",
        "    plt.title('Overfitting curve: ' + param_name)\n",
        "    plt.plot(param_values, train_errors, 'b-o')\n",
        "    plt.plot(param_values, val_errors, 'r-o')\n",
        "    plt.xlabel(param_name)\n",
        "    plt.ylabel('RMSE')\n",
        "    plt.legend(['Training', 'Validation'])"
      ],
      "id": "australian-removal",
      "execution_count": null,
      "outputs": []
    },
    {
      "cell_type": "code",
      "metadata": {
        "id": "strategic-webmaster"
      },
      "source": [
        "test_param_and_plot('max_depth', [5, 10, 15, 20, 25, 30, 35])"
      ],
      "id": "strategic-webmaster",
      "execution_count": null,
      "outputs": []
    },
    {
      "cell_type": "markdown",
      "metadata": {
        "id": "reasonable-version"
      },
      "source": [
        "From the above graph, it appears that the best value for `max_depth` is around 20, beyond which the model starts to overfit."
      ],
      "id": "reasonable-version"
    },
    {
      "cell_type": "code",
      "metadata": {
        "id": "individual-discretion"
      },
      "source": [
        ""
      ],
      "id": "individual-discretion",
      "execution_count": null,
      "outputs": []
    },
    {
      "cell_type": "markdown",
      "metadata": {
        "id": "specific-stadium"
      },
      "source": [
        "Let's save our work before continuing."
      ],
      "id": "specific-stadium"
    },
    {
      "cell_type": "code",
      "metadata": {
        "id": "choice-confidentiality"
      },
      "source": [
        "jovian.commit()"
      ],
      "id": "choice-confidentiality",
      "execution_count": null,
      "outputs": []
    },
    {
      "cell_type": "markdown",
      "metadata": {
        "id": "bottom-configuration"
      },
      "source": [
        "> **QUESTION 6**: Use the `test_params` and `test_param_and_plot` functions to experiment with different values of the  hyperparmeters like `n_estimators`, `max_depth`, `min_samples_split`, `min_samples_leaf`, `min_weight_fraction_leaf`, `max_features`, `max_leaf_nodes`, `min_impurity_decrease`, `min_impurity_split` etc. You can learn more about the hyperparameters here: https://scikit-learn.org/stable/modules/generated/sklearn.ensemble.RandomForestRegressor.html"
      ],
      "id": "bottom-configuration"
    },
    {
      "cell_type": "code",
      "metadata": {
        "id": "guided-costs"
      },
      "source": [
        "???"
      ],
      "id": "guided-costs",
      "execution_count": null,
      "outputs": []
    },
    {
      "cell_type": "code",
      "metadata": {
        "id": "extraordinary-timer"
      },
      "source": [
        ""
      ],
      "id": "extraordinary-timer",
      "execution_count": null,
      "outputs": []
    },
    {
      "cell_type": "code",
      "metadata": {
        "id": "legislative-collins"
      },
      "source": [
        ""
      ],
      "id": "legislative-collins",
      "execution_count": null,
      "outputs": []
    },
    {
      "cell_type": "code",
      "metadata": {
        "id": "supposed-engine"
      },
      "source": [
        ""
      ],
      "id": "supposed-engine",
      "execution_count": null,
      "outputs": []
    },
    {
      "cell_type": "markdown",
      "metadata": {
        "id": "heard-creator"
      },
      "source": [
        "Let's save our work before continuing."
      ],
      "id": "heard-creator"
    },
    {
      "cell_type": "code",
      "metadata": {
        "id": "proper-apollo"
      },
      "source": [
        "jovian.commit()"
      ],
      "id": "proper-apollo",
      "execution_count": null,
      "outputs": []
    },
    {
      "cell_type": "markdown",
      "metadata": {
        "id": "swiss-charger"
      },
      "source": [
        "## Training the Best Model\n",
        "\n",
        "> **QUESTION 7**: Train a random forest regressor model with your best hyperparameters to minimize the validation loss."
      ],
      "id": "swiss-charger"
    },
    {
      "cell_type": "code",
      "metadata": {
        "id": "visible-seven"
      },
      "source": [
        "# Create the model with custom hyperparameters\n",
        "rf2 = ???"
      ],
      "id": "visible-seven",
      "execution_count": null,
      "outputs": []
    },
    {
      "cell_type": "code",
      "metadata": {
        "id": "sonic-nickname"
      },
      "source": [
        "# Train the model\n",
        "???"
      ],
      "id": "sonic-nickname",
      "execution_count": null,
      "outputs": []
    },
    {
      "cell_type": "code",
      "metadata": {
        "id": "collectible-briefs"
      },
      "source": [
        ""
      ],
      "id": "collectible-briefs",
      "execution_count": null,
      "outputs": []
    },
    {
      "cell_type": "markdown",
      "metadata": {
        "id": "prompt-lawrence"
      },
      "source": [
        "Let's save our work before continuing."
      ],
      "id": "prompt-lawrence"
    },
    {
      "cell_type": "code",
      "metadata": {
        "id": "oriental-essex"
      },
      "source": [
        "jovian.commit()"
      ],
      "id": "oriental-essex",
      "execution_count": null,
      "outputs": []
    },
    {
      "cell_type": "markdown",
      "metadata": {
        "id": "afraid-chamber"
      },
      "source": [
        "> **QUESTION 8**: Make predictions and evaluate your final model. If you're unhappy with the results, modify the hyperparameters above and try again."
      ],
      "id": "afraid-chamber"
    },
    {
      "cell_type": "code",
      "metadata": {
        "id": "latest-constraint"
      },
      "source": [
        "rf2_train_preds = ???"
      ],
      "id": "latest-constraint",
      "execution_count": null,
      "outputs": []
    },
    {
      "cell_type": "code",
      "metadata": {
        "id": "expected-musician"
      },
      "source": [
        "rf2_train_rmse = ???"
      ],
      "id": "expected-musician",
      "execution_count": null,
      "outputs": []
    },
    {
      "cell_type": "code",
      "metadata": {
        "id": "equivalent-brand"
      },
      "source": [
        "rf2_val_preds = ???"
      ],
      "id": "equivalent-brand",
      "execution_count": null,
      "outputs": []
    },
    {
      "cell_type": "code",
      "metadata": {
        "id": "sacred-dealer"
      },
      "source": [
        "rf2_val_rmse = ???"
      ],
      "id": "sacred-dealer",
      "execution_count": null,
      "outputs": []
    },
    {
      "cell_type": "code",
      "metadata": {
        "id": "relevant-musician"
      },
      "source": [
        "print('Train RMSE: {}, Validation RMSE: {}'.format(rf1_train_rmse, rf1_val_rmse))"
      ],
      "id": "relevant-musician",
      "execution_count": null,
      "outputs": []
    },
    {
      "cell_type": "code",
      "metadata": {
        "id": "average-player"
      },
      "source": [
        ""
      ],
      "id": "average-player",
      "execution_count": null,
      "outputs": []
    },
    {
      "cell_type": "markdown",
      "metadata": {
        "id": "danish-filename"
      },
      "source": [
        "Let's also view and plot the feature importances."
      ],
      "id": "danish-filename"
    },
    {
      "cell_type": "code",
      "metadata": {
        "id": "measured-circle"
      },
      "source": [
        "rf2_importance_df = pd.DataFrame({\n",
        "    'feature': train_inputs.columns,\n",
        "    'importance': rf2.feature_importances_\n",
        "}).sort_values('importance', ascending=False)"
      ],
      "id": "measured-circle",
      "execution_count": null,
      "outputs": []
    },
    {
      "cell_type": "code",
      "metadata": {
        "id": "insured-thickness"
      },
      "source": [
        "rf2_importance_df"
      ],
      "id": "insured-thickness",
      "execution_count": null,
      "outputs": []
    },
    {
      "cell_type": "code",
      "metadata": {
        "id": "standard-explanation"
      },
      "source": [
        "sns.barplot(data=rf2_importance_df, x='importance', y='feature')"
      ],
      "id": "standard-explanation",
      "execution_count": null,
      "outputs": []
    },
    {
      "cell_type": "code",
      "metadata": {
        "id": "junior-xerox"
      },
      "source": [
        ""
      ],
      "id": "junior-xerox",
      "execution_count": null,
      "outputs": []
    },
    {
      "cell_type": "markdown",
      "metadata": {
        "id": "soviet-springer"
      },
      "source": [
        "Let's save our work before continuing."
      ],
      "id": "soviet-springer"
    },
    {
      "cell_type": "code",
      "metadata": {
        "id": "tested-majority",
        "outputId": "59d493de-ffca-4b34-88ff-74ee8f6823af"
      },
      "source": [
        "jovian.commit()"
      ],
      "id": "tested-majority",
      "execution_count": null,
      "outputs": [
        {
          "output_type": "display_data",
          "data": {
            "application/javascript": [
              "window.require && require([\"base/js/namespace\"],function(Jupyter){Jupyter.notebook.save_checkpoint()})"
            ],
            "text/plain": [
              "<IPython.core.display.Javascript object>"
            ]
          },
          "metadata": {
            "tags": []
          }
        }
      ]
    },
    {
      "cell_type": "markdown",
      "metadata": {
        "id": "sharp-brush"
      },
      "source": [
        "## Make a Submission\n",
        "\n",
        "To make a submission, just execute the following cell:"
      ],
      "id": "sharp-brush"
    },
    {
      "cell_type": "code",
      "metadata": {
        "id": "sunset-archive"
      },
      "source": [
        "jovian.submit('zerotogbms-a2')"
      ],
      "id": "sunset-archive",
      "execution_count": null,
      "outputs": []
    },
    {
      "cell_type": "markdown",
      "metadata": {
        "id": "matched-cornell"
      },
      "source": [
        "You can also submit your Jovian notebook link on the assignment page: https://jovian.ai/learn/machine-learning-with-python-zero-to-gbms/assignment/assignment-2-decision-trees-and-random-forests\n",
        "\n",
        "Make sure to review the evaluation criteria carefully. You can make any number of submissions, and only your final submission will be evalauted.\n",
        "\n",
        "Ask questions, discuss ideas and get help here: https://jovian.ai/forum/c/zero-to-gbms/gbms-assignment-2/99\n",
        "\n",
        "NOTE: **The rest of this assignment is optional.**"
      ],
      "id": "matched-cornell"
    },
    {
      "cell_type": "markdown",
      "metadata": {
        "id": "further-scotland"
      },
      "source": [
        "## Making Predictions on the Test Set\n",
        "\n",
        "Let's make predictions on the test set provided with the data."
      ],
      "id": "further-scotland"
    },
    {
      "cell_type": "code",
      "metadata": {
        "id": "specialized-roots"
      },
      "source": [
        "test_df = pd.read_csv('house-prices/test.csv')"
      ],
      "id": "specialized-roots",
      "execution_count": null,
      "outputs": []
    },
    {
      "cell_type": "code",
      "metadata": {
        "id": "related-marshall"
      },
      "source": [
        "test_df"
      ],
      "id": "related-marshall",
      "execution_count": null,
      "outputs": []
    },
    {
      "cell_type": "markdown",
      "metadata": {
        "id": "hourly-government"
      },
      "source": [
        "First, we need to reapply all the preprocessing steps."
      ],
      "id": "hourly-government"
    },
    {
      "cell_type": "code",
      "metadata": {
        "id": "sunset-chick"
      },
      "source": [
        "test_df[numeric_cols] = imputer.transform(test_df[numeric_cols])\n",
        "test_df[numeric_cols] = scaler.transform(test_df[numeric_cols])\n",
        "test_df[encoded_cols] = encoder.transform(test_df[categorical_cols])"
      ],
      "id": "sunset-chick",
      "execution_count": null,
      "outputs": []
    },
    {
      "cell_type": "code",
      "metadata": {
        "id": "thirty-contract"
      },
      "source": [
        "test_inputs = test_df[numeric_cols + encoded_cols]"
      ],
      "id": "thirty-contract",
      "execution_count": null,
      "outputs": []
    },
    {
      "cell_type": "markdown",
      "metadata": {
        "id": "secret-constitutional"
      },
      "source": [
        "We can now make predictions using our final model."
      ],
      "id": "secret-constitutional"
    },
    {
      "cell_type": "code",
      "metadata": {
        "id": "extreme-edinburgh"
      },
      "source": [
        "test_preds = rf2.predict(test_inputs)"
      ],
      "id": "extreme-edinburgh",
      "execution_count": null,
      "outputs": []
    },
    {
      "cell_type": "code",
      "metadata": {
        "id": "solid-charger"
      },
      "source": [
        "submission_df = pd.read_csv('house-prices/sample_submission.csv')"
      ],
      "id": "solid-charger",
      "execution_count": null,
      "outputs": []
    },
    {
      "cell_type": "code",
      "metadata": {
        "id": "fifth-adobe"
      },
      "source": [
        "submission_df"
      ],
      "id": "fifth-adobe",
      "execution_count": null,
      "outputs": []
    },
    {
      "cell_type": "markdown",
      "metadata": {
        "id": "capital-seven"
      },
      "source": [
        "Let's replace the values of the `SalePrice` column with our predictions."
      ],
      "id": "capital-seven"
    },
    {
      "cell_type": "code",
      "metadata": {
        "id": "personal-learning"
      },
      "source": [
        "submission_df['SalePrice'] = test_preds"
      ],
      "id": "personal-learning",
      "execution_count": null,
      "outputs": []
    },
    {
      "cell_type": "markdown",
      "metadata": {
        "id": "informed-monitoring"
      },
      "source": [
        "Let's save it as a CSV file and download it."
      ],
      "id": "informed-monitoring"
    },
    {
      "cell_type": "code",
      "metadata": {
        "id": "polish-missile"
      },
      "source": [
        "submission_df.to_csv('submission.csv', index=False)"
      ],
      "id": "polish-missile",
      "execution_count": null,
      "outputs": []
    },
    {
      "cell_type": "code",
      "metadata": {
        "id": "acting-national"
      },
      "source": [
        "from IPython.display import FileLink\n",
        "FileLink('submission.csv') # Doesn't work on Colab, use the file browser instead to download the file."
      ],
      "id": "acting-national",
      "execution_count": null,
      "outputs": []
    },
    {
      "cell_type": "markdown",
      "metadata": {
        "id": "national-knowing"
      },
      "source": [
        "We can now submit this file to the competition: https://www.kaggle.com/c/house-prices-advanced-regression-techniques/submissions\n",
        "\n",
        "![](https://i.imgur.com/6h2vXRq.png)\n"
      ],
      "id": "national-knowing"
    },
    {
      "cell_type": "markdown",
      "metadata": {
        "id": "twelve-intention"
      },
      "source": [
        "> **(OPTIONAL) QUESTION**: Submit your predictions to the competition. Experiment with different models, feature engineering strategies and hyperparameters and try to reach the top 10% on the leaderboard."
      ],
      "id": "twelve-intention"
    },
    {
      "cell_type": "code",
      "metadata": {
        "id": "super-beverage"
      },
      "source": [
        ""
      ],
      "id": "super-beverage",
      "execution_count": null,
      "outputs": []
    },
    {
      "cell_type": "code",
      "metadata": {
        "id": "accredited-establishment"
      },
      "source": [
        ""
      ],
      "id": "accredited-establishment",
      "execution_count": null,
      "outputs": []
    },
    {
      "cell_type": "markdown",
      "metadata": {
        "id": "pediatric-instruction"
      },
      "source": [
        "Let's save our work before continuing."
      ],
      "id": "pediatric-instruction"
    },
    {
      "cell_type": "code",
      "metadata": {
        "id": "seven-smooth",
        "outputId": "c8e24971-b467-403b-9c33-4ec20fead668"
      },
      "source": [
        "jovian.commit()"
      ],
      "id": "seven-smooth",
      "execution_count": null,
      "outputs": [
        {
          "output_type": "display_data",
          "data": {
            "application/javascript": [
              "window.require && require([\"base/js/namespace\"],function(Jupyter){Jupyter.notebook.save_checkpoint()})"
            ],
            "text/plain": [
              "<IPython.core.display.Javascript object>"
            ]
          },
          "metadata": {
            "tags": []
          }
        },
        {
          "output_type": "stream",
          "text": [
            "[jovian] Updating notebook \"aakashns/python-random-forests-assignment\" on https://jovian.ai/\u001b[0m\n",
            "[jovian] Committed successfully! https://jovian.ai/aakashns/python-random-forests-assignment\u001b[0m\n"
          ],
          "name": "stdout"
        },
        {
          "output_type": "execute_result",
          "data": {
            "text/plain": [
              "'https://jovian.ai/aakashns/python-random-forests-assignment'"
            ]
          },
          "metadata": {
            "tags": []
          },
          "execution_count": 6
        }
      ]
    },
    {
      "cell_type": "markdown",
      "metadata": {
        "id": "suffering-belize"
      },
      "source": [
        "### Making Predictions on Single Inputs"
      ],
      "id": "suffering-belize"
    },
    {
      "cell_type": "code",
      "metadata": {
        "id": "extended-hindu"
      },
      "source": [
        "def predict_input(model, single_input):\n",
        "    input_df = pd.DataFrame([single_input])\n",
        "    input_df[numeric_cols] = imputer.transform(input_df[numeric_cols])\n",
        "    input_df[numeric_cols] = scaler.transform(input_df[numeric_cols])\n",
        "    input_df[encoded_cols] = encoder.transform(input_df[categorical_cols].values)\n",
        "    return model.predict(input_df[numeric_cols + encoded_cols])[0]"
      ],
      "id": "extended-hindu",
      "execution_count": null,
      "outputs": []
    },
    {
      "cell_type": "code",
      "metadata": {
        "id": "portuguese-concentration"
      },
      "source": [
        "sample_input = { 'MSSubClass': 20, 'MSZoning': 'RL', 'LotFrontage': 77.0, 'LotArea': 9320,\n",
        " 'Street': 'Pave', 'Alley': None, 'LotShape': 'IR1', 'LandContour': 'Lvl', 'Utilities': 'AllPub',\n",
        " 'LotConfig': 'Inside', 'LandSlope': 'Gtl', 'Neighborhood': 'NAmes', 'Condition1': 'Norm', 'Condition2': 'Norm',\n",
        " 'BldgType': '1Fam', 'HouseStyle': '1Story', 'OverallQual': 4, 'OverallCond': 5, 'YearBuilt': 1959,\n",
        " 'YearRemodAdd': 1959, 'RoofStyle': 'Gable', 'RoofMatl': 'CompShg', 'Exterior1st': 'Plywood',\n",
        " 'Exterior2nd': 'Plywood', 'MasVnrType': 'None','MasVnrArea': 0.0,'ExterQual': 'TA','ExterCond': 'TA',\n",
        " 'Foundation': 'CBlock','BsmtQual': 'TA','BsmtCond': 'TA','BsmtExposure': 'No','BsmtFinType1': 'ALQ',\n",
        " 'BsmtFinSF1': 569,'BsmtFinType2': 'Unf','BsmtFinSF2': 0,'BsmtUnfSF': 381,\n",
        " 'TotalBsmtSF': 950,'Heating': 'GasA','HeatingQC': 'Fa','CentralAir': 'Y','Electrical': 'SBrkr', '1stFlrSF': 1225,\n",
        " '2ndFlrSF': 0, 'LowQualFinSF': 0, 'GrLivArea': 1225, 'BsmtFullBath': 1, 'BsmtHalfBath': 0, 'FullBath': 1,\n",
        " 'HalfBath': 1, 'BedroomAbvGr': 3, 'KitchenAbvGr': 1,'KitchenQual': 'TA','TotRmsAbvGrd': 6,'Functional': 'Typ',\n",
        " 'Fireplaces': 0,'FireplaceQu': np.nan,'GarageType': np.nan,'GarageYrBlt': np.nan,'GarageFinish': np.nan,'GarageCars': 0,\n",
        " 'GarageArea': 0,'GarageQual': np.nan,'GarageCond': np.nan,'PavedDrive': 'Y', 'WoodDeckSF': 352, 'OpenPorchSF': 0,\n",
        " 'EnclosedPorch': 0,'3SsnPorch': 0, 'ScreenPorch': 0, 'PoolArea': 0, 'PoolQC': np.nan, 'Fence': np.nan, 'MiscFeature': 'Shed',\n",
        " 'MiscVal': 400, 'MoSold': 1, 'YrSold': 2010, 'SaleType': 'WD', 'SaleCondition': 'Normal'}"
      ],
      "id": "portuguese-concentration",
      "execution_count": null,
      "outputs": []
    },
    {
      "cell_type": "code",
      "metadata": {
        "id": "reverse-duplicate"
      },
      "source": [
        "predicted_price = predict_input(rf2, sample_input)"
      ],
      "id": "reverse-duplicate",
      "execution_count": null,
      "outputs": []
    },
    {
      "cell_type": "code",
      "metadata": {
        "id": "protective-elizabeth"
      },
      "source": [
        "print('The predicted sale price of the house is ${}'.format(predicted_price))"
      ],
      "id": "protective-elizabeth",
      "execution_count": null,
      "outputs": []
    },
    {
      "cell_type": "markdown",
      "metadata": {
        "id": "unlimited-pursuit"
      },
      "source": [
        "> **EXERCISE**: Change the sample input above and make predictions. Try different examples and try to figure out which columns have a big impact on the sale price. Hint: Look at the feature importance to decide which columns to try."
      ],
      "id": "unlimited-pursuit"
    },
    {
      "cell_type": "code",
      "metadata": {
        "id": "unable-percentage"
      },
      "source": [
        ""
      ],
      "id": "unable-percentage",
      "execution_count": null,
      "outputs": []
    },
    {
      "cell_type": "code",
      "metadata": {
        "id": "legislative-decade"
      },
      "source": [
        ""
      ],
      "id": "legislative-decade",
      "execution_count": null,
      "outputs": []
    },
    {
      "cell_type": "markdown",
      "metadata": {
        "id": "eight-source"
      },
      "source": [
        "### Saving the Model"
      ],
      "id": "eight-source"
    },
    {
      "cell_type": "code",
      "metadata": {
        "id": "boring-insight"
      },
      "source": [
        "import joblib"
      ],
      "id": "boring-insight",
      "execution_count": null,
      "outputs": []
    },
    {
      "cell_type": "code",
      "metadata": {
        "id": "practical-distribution"
      },
      "source": [
        "house_prices_rf = {\n",
        "    'model': rf2,\n",
        "    'imputer': imputer,\n",
        "    'scaler': scaler,\n",
        "    'encoder': encoder,\n",
        "    'input_cols': input_cols,\n",
        "    'target_col': target_col,\n",
        "    'numeric_cols': numeric_cols,\n",
        "    'categorical_cols': categorical_cols,\n",
        "    'encoded_cols': encoded_cols\n",
        "}"
      ],
      "id": "practical-distribution",
      "execution_count": null,
      "outputs": []
    },
    {
      "cell_type": "code",
      "metadata": {
        "id": "animated-spoke"
      },
      "source": [
        "joblib.dump(house_prices_rf, 'house_prices_rf.joblib')"
      ],
      "id": "animated-spoke",
      "execution_count": null,
      "outputs": []
    },
    {
      "cell_type": "markdown",
      "metadata": {
        "id": "normal-culture"
      },
      "source": [
        "Let's save our work before continuing."
      ],
      "id": "normal-culture"
    },
    {
      "cell_type": "code",
      "metadata": {
        "id": "fallen-primary"
      },
      "source": [
        "jovian.commit(outputs=['house_prices_rf.joblib'])"
      ],
      "id": "fallen-primary",
      "execution_count": null,
      "outputs": []
    },
    {
      "cell_type": "code",
      "metadata": {
        "id": "biblical-insight"
      },
      "source": [
        ""
      ],
      "id": "biblical-insight",
      "execution_count": null,
      "outputs": []
    },
    {
      "cell_type": "markdown",
      "metadata": {
        "id": "loved-clause"
      },
      "source": [
        "### Predicting the Logarithm of Sale Price"
      ],
      "id": "loved-clause"
    },
    {
      "cell_type": "markdown",
      "metadata": {
        "id": "talented-introduction"
      },
      "source": [
        "> **(OPTIONAL) QUESTION**: In the [original Kaggle competition](https://www.kaggle.com/c/house-prices-advanced-regression-techniques/overview/evaluation), the model is evaluated by computing the Root Mean Squared Error on the logarithm of the sale price. Try training a random forest to predict the logarithm of the sale price, instead of the actual sales price and see if the results you obtain are better than the models trained above."
      ],
      "id": "talented-introduction"
    },
    {
      "cell_type": "code",
      "metadata": {
        "id": "driven-lobby"
      },
      "source": [
        ""
      ],
      "id": "driven-lobby",
      "execution_count": null,
      "outputs": []
    },
    {
      "cell_type": "code",
      "metadata": {
        "id": "entitled-island"
      },
      "source": [
        ""
      ],
      "id": "entitled-island",
      "execution_count": null,
      "outputs": []
    }
  ]
}